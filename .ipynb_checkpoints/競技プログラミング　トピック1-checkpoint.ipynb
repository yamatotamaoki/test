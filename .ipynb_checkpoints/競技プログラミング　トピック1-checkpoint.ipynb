{
 "cells": [
  {
   "cell_type": "code",
   "execution_count": 3,
   "metadata": {},
   "outputs": [
    {
     "name": "stdout",
     "output_type": "stream",
     "text": [
      "1 2\n",
      "a < b\n"
     ]
    }
   ],
   "source": [
    "#トピック1ーC\n",
    "a,b = map(int,input().split())\n",
    "if a<b :\n",
    "    print(\"a < b\")\n",
    "elif a>b :\n",
    "    print(\"a > b\")\n",
    "elif a==b :\n",
    "    print(\"a == b\")\n",
    "    "
   ]
  },
  {
   "cell_type": "code",
   "execution_count": 14,
   "metadata": {},
   "outputs": [
    {
     "name": "stdout",
     "output_type": "stream",
     "text": [
      "46979\n",
      "13:2:59\n"
     ]
    }
   ],
   "source": [
    "#トピック1ーD\n",
    "S = int(input())\n",
    "h = S//3600\n",
    "m = (S-(h*3600))//60\n",
    "s = (S-(h*3600)-(m*60))\n",
    "print(h,':',m,':',s,sep=\"\")"
   ]
  },
  {
   "cell_type": "code",
   "execution_count": null,
   "metadata": {},
   "outputs": [],
   "source": []
  }
 ],
 "metadata": {
  "kernelspec": {
   "display_name": "Python 3",
   "language": "python",
   "name": "python3"
  },
  "language_info": {
   "codemirror_mode": {
    "name": "ipython",
    "version": 3
   },
   "file_extension": ".py",
   "mimetype": "text/x-python",
   "name": "python",
   "nbconvert_exporter": "python",
   "pygments_lexer": "ipython3",
   "version": "3.7.6"
  }
 },
 "nbformat": 4,
 "nbformat_minor": 4
}
